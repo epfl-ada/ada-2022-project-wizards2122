{
 "cells": [
  {
   "cell_type": "code",
   "execution_count": 1,
   "id": "fdde3bda",
   "metadata": {},
   "outputs": [],
   "source": [
    "import pandas as pd\n",
    "import numpy as np\n",
    "import matplotlib.pyplot as plt\n",
    "from datetime import datetime\n",
    "import json\n",
    "import urllib.parse\n",
    "import urllib.request\n",
    "import re\n",
    "from tqdm import tqdm\n",
    "import requests\n",
    "from requests import utils\n",
    "import pickle"
   ]
  },
  {
   "cell_type": "markdown",
   "id": "e5dd0a79",
   "metadata": {},
   "source": [
    "### get all pages"
   ]
  },
  {
   "cell_type": "code",
   "execution_count": 2,
   "id": "54949aca",
   "metadata": {
    "scrolled": true
   },
   "outputs": [
    {
     "data": {
      "text/html": [
       "<div>\n",
       "<style scoped>\n",
       "    .dataframe tbody tr th:only-of-type {\n",
       "        vertical-align: middle;\n",
       "    }\n",
       "\n",
       "    .dataframe tbody tr th {\n",
       "        vertical-align: top;\n",
       "    }\n",
       "\n",
       "    .dataframe thead th {\n",
       "        text-align: right;\n",
       "    }\n",
       "</style>\n",
       "<table border=\"1\" class=\"dataframe\">\n",
       "  <thead>\n",
       "    <tr style=\"text-align: right;\">\n",
       "      <th></th>\n",
       "      <th>index</th>\n",
       "      <th>Geography.Regions.Asia.Central Asia</th>\n",
       "      <th>Geography.Regions.Europe.Eastern Europe</th>\n",
       "      <th>History and Society.Military and warfare</th>\n",
       "      <th>Culture.Media.Television</th>\n",
       "      <th>History and Society.Education</th>\n",
       "      <th>Culture.Media.Books</th>\n",
       "      <th>Geography.Regions.Africa.Africa*</th>\n",
       "      <th>Culture.Visual arts.Architecture</th>\n",
       "      <th>Culture.Biography.Women</th>\n",
       "      <th>...</th>\n",
       "      <th>Geography.Regions.Asia.West Asia</th>\n",
       "      <th>STEM.Chemistry</th>\n",
       "      <th>Geography.Regions.Europe.Northern Europe</th>\n",
       "      <th>Culture.Media.Video games</th>\n",
       "      <th>Geography.Regions.Asia.Southeast Asia</th>\n",
       "      <th>Culture.Media.Entertainment</th>\n",
       "      <th>Culture.Media.Music</th>\n",
       "      <th>Geography.Regions.Asia.Asia*</th>\n",
       "      <th>Geography.Regions.Asia.North Asia</th>\n",
       "      <th>qid</th>\n",
       "    </tr>\n",
       "  </thead>\n",
       "  <tbody>\n",
       "    <tr>\n",
       "      <th>0</th>\n",
       "      <td>Rosmalen</td>\n",
       "      <td>False</td>\n",
       "      <td>False</td>\n",
       "      <td>False</td>\n",
       "      <td>False</td>\n",
       "      <td>False</td>\n",
       "      <td>False</td>\n",
       "      <td>False</td>\n",
       "      <td>False</td>\n",
       "      <td>False</td>\n",
       "      <td>...</td>\n",
       "      <td>False</td>\n",
       "      <td>False</td>\n",
       "      <td>False</td>\n",
       "      <td>False</td>\n",
       "      <td>False</td>\n",
       "      <td>False</td>\n",
       "      <td>False</td>\n",
       "      <td>False</td>\n",
       "      <td>False</td>\n",
       "      <td>Q2001490</td>\n",
       "    </tr>\n",
       "    <tr>\n",
       "      <th>1</th>\n",
       "      <td>Commelinales</td>\n",
       "      <td>False</td>\n",
       "      <td>False</td>\n",
       "      <td>False</td>\n",
       "      <td>False</td>\n",
       "      <td>False</td>\n",
       "      <td>False</td>\n",
       "      <td>False</td>\n",
       "      <td>False</td>\n",
       "      <td>False</td>\n",
       "      <td>...</td>\n",
       "      <td>False</td>\n",
       "      <td>False</td>\n",
       "      <td>False</td>\n",
       "      <td>False</td>\n",
       "      <td>False</td>\n",
       "      <td>False</td>\n",
       "      <td>False</td>\n",
       "      <td>False</td>\n",
       "      <td>False</td>\n",
       "      <td>Q290349</td>\n",
       "    </tr>\n",
       "    <tr>\n",
       "      <th>2</th>\n",
       "      <td>Transport_in_Honduras</td>\n",
       "      <td>False</td>\n",
       "      <td>False</td>\n",
       "      <td>False</td>\n",
       "      <td>False</td>\n",
       "      <td>False</td>\n",
       "      <td>False</td>\n",
       "      <td>False</td>\n",
       "      <td>False</td>\n",
       "      <td>False</td>\n",
       "      <td>...</td>\n",
       "      <td>False</td>\n",
       "      <td>False</td>\n",
       "      <td>False</td>\n",
       "      <td>False</td>\n",
       "      <td>False</td>\n",
       "      <td>False</td>\n",
       "      <td>False</td>\n",
       "      <td>False</td>\n",
       "      <td>False</td>\n",
       "      <td>Q1130638</td>\n",
       "    </tr>\n",
       "    <tr>\n",
       "      <th>3</th>\n",
       "      <td>QuakeC</td>\n",
       "      <td>False</td>\n",
       "      <td>False</td>\n",
       "      <td>False</td>\n",
       "      <td>False</td>\n",
       "      <td>False</td>\n",
       "      <td>False</td>\n",
       "      <td>False</td>\n",
       "      <td>False</td>\n",
       "      <td>False</td>\n",
       "      <td>...</td>\n",
       "      <td>False</td>\n",
       "      <td>False</td>\n",
       "      <td>False</td>\n",
       "      <td>False</td>\n",
       "      <td>False</td>\n",
       "      <td>False</td>\n",
       "      <td>False</td>\n",
       "      <td>False</td>\n",
       "      <td>False</td>\n",
       "      <td>Q2122062</td>\n",
       "    </tr>\n",
       "    <tr>\n",
       "      <th>4</th>\n",
       "      <td>Food_writing</td>\n",
       "      <td>False</td>\n",
       "      <td>False</td>\n",
       "      <td>False</td>\n",
       "      <td>False</td>\n",
       "      <td>False</td>\n",
       "      <td>False</td>\n",
       "      <td>False</td>\n",
       "      <td>False</td>\n",
       "      <td>False</td>\n",
       "      <td>...</td>\n",
       "      <td>False</td>\n",
       "      <td>False</td>\n",
       "      <td>False</td>\n",
       "      <td>False</td>\n",
       "      <td>False</td>\n",
       "      <td>False</td>\n",
       "      <td>False</td>\n",
       "      <td>False</td>\n",
       "      <td>False</td>\n",
       "      <td>Q5465542</td>\n",
       "    </tr>\n",
       "  </tbody>\n",
       "</table>\n",
       "<p>5 rows × 66 columns</p>\n",
       "</div>"
      ],
      "text/plain": [
       "                   index  Geography.Regions.Asia.Central Asia  \\\n",
       "0               Rosmalen                                False   \n",
       "1           Commelinales                                False   \n",
       "2  Transport_in_Honduras                                False   \n",
       "3                 QuakeC                                False   \n",
       "4           Food_writing                                False   \n",
       "\n",
       "   Geography.Regions.Europe.Eastern Europe  \\\n",
       "0                                    False   \n",
       "1                                    False   \n",
       "2                                    False   \n",
       "3                                    False   \n",
       "4                                    False   \n",
       "\n",
       "   History and Society.Military and warfare  Culture.Media.Television  \\\n",
       "0                                     False                     False   \n",
       "1                                     False                     False   \n",
       "2                                     False                     False   \n",
       "3                                     False                     False   \n",
       "4                                     False                     False   \n",
       "\n",
       "   History and Society.Education  Culture.Media.Books  \\\n",
       "0                          False                False   \n",
       "1                          False                False   \n",
       "2                          False                False   \n",
       "3                          False                False   \n",
       "4                          False                False   \n",
       "\n",
       "   Geography.Regions.Africa.Africa*  Culture.Visual arts.Architecture  \\\n",
       "0                             False                             False   \n",
       "1                             False                             False   \n",
       "2                             False                             False   \n",
       "3                             False                             False   \n",
       "4                             False                             False   \n",
       "\n",
       "   Culture.Biography.Women  ...  Geography.Regions.Asia.West Asia  \\\n",
       "0                    False  ...                             False   \n",
       "1                    False  ...                             False   \n",
       "2                    False  ...                             False   \n",
       "3                    False  ...                             False   \n",
       "4                    False  ...                             False   \n",
       "\n",
       "   STEM.Chemistry  Geography.Regions.Europe.Northern Europe  \\\n",
       "0           False                                     False   \n",
       "1           False                                     False   \n",
       "2           False                                     False   \n",
       "3           False                                     False   \n",
       "4           False                                     False   \n",
       "\n",
       "   Culture.Media.Video games  Geography.Regions.Asia.Southeast Asia  \\\n",
       "0                      False                                  False   \n",
       "1                      False                                  False   \n",
       "2                      False                                  False   \n",
       "3                      False                                  False   \n",
       "4                      False                                  False   \n",
       "\n",
       "   Culture.Media.Entertainment  Culture.Media.Music  \\\n",
       "0                        False                False   \n",
       "1                        False                False   \n",
       "2                        False                False   \n",
       "3                        False                False   \n",
       "4                        False                False   \n",
       "\n",
       "   Geography.Regions.Asia.Asia*  Geography.Regions.Asia.North Asia       qid  \n",
       "0                         False                              False  Q2001490  \n",
       "1                         False                              False   Q290349  \n",
       "2                         False                              False  Q1130638  \n",
       "3                         False                              False  Q2122062  \n",
       "4                         False                              False  Q5465542  \n",
       "\n",
       "[5 rows x 66 columns]"
      ]
     },
     "execution_count": 2,
     "metadata": {},
     "output_type": "execute_result"
    }
   ],
   "source": [
    "# provided dataset\n",
    "from load import load_topics\n",
    "topics_df, topics = load_topics('./data/topics_linked.csv.xz')\n",
    "topics_df.head()"
   ]
  },
  {
   "cell_type": "code",
   "execution_count": 3,
   "id": "c8adc00d",
   "metadata": {
    "scrolled": true
   },
   "outputs": [
    {
     "data": {
      "text/html": [
       "<div>\n",
       "<style scoped>\n",
       "    .dataframe tbody tr th:only-of-type {\n",
       "        vertical-align: middle;\n",
       "    }\n",
       "\n",
       "    .dataframe tbody tr th {\n",
       "        vertical-align: top;\n",
       "    }\n",
       "\n",
       "    .dataframe thead th {\n",
       "        text-align: right;\n",
       "    }\n",
       "</style>\n",
       "<table border=\"1\" class=\"dataframe\">\n",
       "  <thead>\n",
       "    <tr style=\"text-align: right;\">\n",
       "      <th></th>\n",
       "      <th>covid symptoms</th>\n",
       "      <th>mental health</th>\n",
       "      <th>non-covid disease</th>\n",
       "    </tr>\n",
       "  </thead>\n",
       "  <tbody>\n",
       "    <tr>\n",
       "      <th>0</th>\n",
       "      <td>fever</td>\n",
       "      <td>alcoholism</td>\n",
       "      <td>toothache</td>\n",
       "    </tr>\n",
       "    <tr>\n",
       "      <th>1</th>\n",
       "      <td>chills</td>\n",
       "      <td>panic disorder</td>\n",
       "      <td>stroke</td>\n",
       "    </tr>\n",
       "    <tr>\n",
       "      <th>2</th>\n",
       "      <td>cough</td>\n",
       "      <td>abuse</td>\n",
       "      <td>Cardiovascular diseases</td>\n",
       "    </tr>\n",
       "    <tr>\n",
       "      <th>3</th>\n",
       "      <td>shortness of breath</td>\n",
       "      <td>stress</td>\n",
       "      <td>indigestion</td>\n",
       "    </tr>\n",
       "    <tr>\n",
       "      <th>4</th>\n",
       "      <td>difficulty breathing</td>\n",
       "      <td>Bipolar disorder</td>\n",
       "      <td>constipation</td>\n",
       "    </tr>\n",
       "  </tbody>\n",
       "</table>\n",
       "</div>"
      ],
      "text/plain": [
       "         covid symptoms     mental health        non-covid disease\n",
       "0                 fever        alcoholism                toothache\n",
       "1                chills    panic disorder                   stroke\n",
       "2                 cough             abuse  Cardiovascular diseases\n",
       "3   shortness of breath            stress              indigestion\n",
       "4  difficulty breathing  Bipolar disorder             constipation"
      ]
     },
     "execution_count": 3,
     "metadata": {},
     "output_type": "execute_result"
    }
   ],
   "source": [
    "# keyword dataset, included all the keywords we are interested in each category\n",
    "# will use these keywords to search for pages\n",
    "keywords_df = pd.read_csv('./data/keywords_en.csv')\n",
    "keywords_df.head()"
   ]
  },
  {
   "cell_type": "code",
   "execution_count": 4,
   "id": "461c6b47",
   "metadata": {},
   "outputs": [],
   "source": [
    "def get_all_pages(pages_df, keywords):\n",
    "    \"\"\"\n",
    "    using keywords to search for all pages\n",
    "    return: a list of qid\n",
    "    \"\"\"\n",
    "    keywords = [word.replace(\" \", \"_\").lower() for word in keywords]\n",
    "    res=[]\n",
    "    page_name=[]\n",
    "    page_dict = pages_df.to_dict()['qid']\n",
    "    for keyword in keywords:\n",
    "        for page in page_dict.keys():\n",
    "            if page.lower().find(keyword)!=-1:\n",
    "                res.append(page_dict[page])\n",
    "                page_name.append(urllib.parse.quote(page))\n",
    "\n",
    "    return pd.DataFrame(zip(page_name, res), columns=['index','qid'])"
   ]
  },
  {
   "cell_type": "code",
   "execution_count": 5,
   "id": "8da3be29",
   "metadata": {},
   "outputs": [],
   "source": [
    "# search on the medicine & health topics, and get all need qid\n",
    "all_pages = topics_df.loc[topics_df['STEM.Medicine & Health']==True, ['index','qid']].set_index('index')\n",
    "\n",
    "covid_keywords = keywords_df['covid symptoms'].dropna().to_list()\n",
    "covid_page = get_all_pages(all_pages, covid_keywords)\n",
    "\n",
    "noncovid_keywords = keywords_df['non-covid disease'].dropna().to_list()\n",
    "noncovid_page = get_all_pages(all_pages, noncovid_keywords)\n",
    "\n",
    "mental_keywords = keywords_df['mental health'].dropna().to_list()\n",
    "mental_page = get_all_pages(all_pages, mental_keywords)"
   ]
  },
  {
   "cell_type": "code",
   "execution_count": 6,
   "id": "637fa0c8",
   "metadata": {
    "scrolled": false
   },
   "outputs": [
    {
     "data": {
      "text/html": [
       "<div>\n",
       "<style scoped>\n",
       "    .dataframe tbody tr th:only-of-type {\n",
       "        vertical-align: middle;\n",
       "    }\n",
       "\n",
       "    .dataframe tbody tr th {\n",
       "        vertical-align: top;\n",
       "    }\n",
       "\n",
       "    .dataframe thead th {\n",
       "        text-align: right;\n",
       "    }\n",
       "</style>\n",
       "<table border=\"1\" class=\"dataframe\">\n",
       "  <thead>\n",
       "    <tr style=\"text-align: right;\">\n",
       "      <th></th>\n",
       "      <th>index</th>\n",
       "      <th>qid</th>\n",
       "    </tr>\n",
       "  </thead>\n",
       "  <tbody>\n",
       "    <tr>\n",
       "      <th>0</th>\n",
       "      <td>Michigan_Alcoholism_Screening_Test</td>\n",
       "      <td>Q6837444</td>\n",
       "    </tr>\n",
       "    <tr>\n",
       "      <th>1</th>\n",
       "      <td>Molecular_and_epigenetic_mechanisms_of_alcoholism</td>\n",
       "      <td>Q22236242</td>\n",
       "    </tr>\n",
       "    <tr>\n",
       "      <th>2</th>\n",
       "      <td>Collaborative_Study_on_the_Genetics_of_Alcoholism</td>\n",
       "      <td>Q5145826</td>\n",
       "    </tr>\n",
       "    <tr>\n",
       "      <th>3</th>\n",
       "      <td>Disease_theory_of_alcoholism</td>\n",
       "      <td>Q5282132</td>\n",
       "    </tr>\n",
       "    <tr>\n",
       "      <th>4</th>\n",
       "      <td>The_Natural_History_of_Alcoholism_Revisited</td>\n",
       "      <td>Q7753254</td>\n",
       "    </tr>\n",
       "  </tbody>\n",
       "</table>\n",
       "</div>"
      ],
      "text/plain": [
       "                                               index        qid\n",
       "0                 Michigan_Alcoholism_Screening_Test   Q6837444\n",
       "1  Molecular_and_epigenetic_mechanisms_of_alcoholism  Q22236242\n",
       "2  Collaborative_Study_on_the_Genetics_of_Alcoholism   Q5145826\n",
       "3                       Disease_theory_of_alcoholism   Q5282132\n",
       "4        The_Natural_History_of_Alcoholism_Revisited   Q7753254"
      ]
     },
     "execution_count": 6,
     "metadata": {},
     "output_type": "execute_result"
    }
   ],
   "source": [
    "mental_page.head()"
   ]
  },
  {
   "cell_type": "markdown",
   "id": "f6bc8cb5",
   "metadata": {},
   "source": [
    "After getting all the pages we need, we filtered out pages with very low pageviews and some irrelevant pages, then assign the category label for them manually."
   ]
  },
  {
   "cell_type": "markdown",
   "id": "77966e8a",
   "metadata": {},
   "source": [
    "### using filtered data"
   ]
  },
  {
   "cell_type": "code",
   "execution_count": 8,
   "id": "63722ba0",
   "metadata": {
    "scrolled": true
   },
   "outputs": [],
   "source": [
    "# here we filtered and categorize the date by hand, import data\n",
    "covid_filtered = pd.read_csv('./data/covid_filtered.csv')\n",
    "noncovid_filtered = pd.read_csv('./data/noncovid_filtered.csv')\n",
    "mental_filtered = pd.read_csv('./data/mental_filtered.csv')"
   ]
  },
  {
   "cell_type": "code",
   "execution_count": 9,
   "id": "14635153",
   "metadata": {
    "scrolled": true
   },
   "outputs": [
    {
     "data": {
      "text/html": [
       "<div>\n",
       "<style scoped>\n",
       "    .dataframe tbody tr th:only-of-type {\n",
       "        vertical-align: middle;\n",
       "    }\n",
       "\n",
       "    .dataframe tbody tr th {\n",
       "        vertical-align: top;\n",
       "    }\n",
       "\n",
       "    .dataframe thead th {\n",
       "        text-align: right;\n",
       "    }\n",
       "</style>\n",
       "<table border=\"1\" class=\"dataframe\">\n",
       "  <thead>\n",
       "    <tr style=\"text-align: right;\">\n",
       "      <th></th>\n",
       "      <th>index</th>\n",
       "      <th>category</th>\n",
       "    </tr>\n",
       "  </thead>\n",
       "  <tbody>\n",
       "    <tr>\n",
       "      <th>0</th>\n",
       "      <td>2009_flu_pandemic_in_Canada</td>\n",
       "      <td>pandemic</td>\n",
       "    </tr>\n",
       "    <tr>\n",
       "      <th>1</th>\n",
       "      <td>Upper_respiratory_tract_infection</td>\n",
       "      <td>respiratory</td>\n",
       "    </tr>\n",
       "    <tr>\n",
       "      <th>2</th>\n",
       "      <td>Fungal_pneumonia</td>\n",
       "      <td>respiratory</td>\n",
       "    </tr>\n",
       "    <tr>\n",
       "      <th>3</th>\n",
       "      <td>Classification_of_pneumonia</td>\n",
       "      <td>respiratory</td>\n",
       "    </tr>\n",
       "    <tr>\n",
       "      <th>4</th>\n",
       "      <td>Influenza_A_virus</td>\n",
       "      <td>flu</td>\n",
       "    </tr>\n",
       "  </tbody>\n",
       "</table>\n",
       "</div>"
      ],
      "text/plain": [
       "                               index     category\n",
       "0        2009_flu_pandemic_in_Canada     pandemic\n",
       "1  Upper_respiratory_tract_infection  respiratory\n",
       "2                   Fungal_pneumonia  respiratory\n",
       "3        Classification_of_pneumonia  respiratory\n",
       "4                  Influenza_A_virus          flu"
      ]
     },
     "execution_count": 9,
     "metadata": {},
     "output_type": "execute_result"
    }
   ],
   "source": [
    "covid_filtered.head()"
   ]
  },
  {
   "cell_type": "code",
   "execution_count": 10,
   "id": "1bacea88",
   "metadata": {},
   "outputs": [],
   "source": [
    "# find qid for each index\n",
    "for pages, filtered in [(covid_page,covid_filtered), (noncovid_page,noncovid_filtered), (mental_page,mental_filtered)]:\n",
    "    res=[]\n",
    "    for i in filtered['index']:\n",
    "        try:\n",
    "            res.append(pages.loc[pages['index']==i, 'qid'].values[0])\n",
    "        except:\n",
    "            res.append(np.nan)\n",
    "    filtered['qid'] = res"
   ]
  },
  {
   "cell_type": "code",
   "execution_count": 11,
   "id": "3932ce4b",
   "metadata": {},
   "outputs": [],
   "source": [
    "# drop those nan in qid\n",
    "covid_filtered = covid_filtered[covid_filtered['qid'].notna()]\n",
    "noncovid_filtered = noncovid_filtered[noncovid_filtered['qid'].notna()]\n",
    "mental_filtered = mental_filtered[mental_filtered['qid'].notna()]"
   ]
  },
  {
   "cell_type": "markdown",
   "id": "338623c1",
   "metadata": {},
   "source": [
    "### get pageview data from api"
   ]
  },
  {
   "cell_type": "code",
   "execution_count": 12,
   "id": "eb3b3505",
   "metadata": {},
   "outputs": [],
   "source": [
    "def get_wikipedia_title_from_wikidata_id(wikidata_id, lang='en', debug=False):\n",
    "    \"\"\"\n",
    "    search pages title using qid\n",
    "    return: title name in required language\n",
    "    \"\"\"\n",
    "    \n",
    "    url = (\n",
    "        'https://www.wikidata.org/w/api.php'\n",
    "        '?action=wbgetentities'\n",
    "        '&props=sitelinks/urls'\n",
    "        f'&ids={wikidata_id}'\n",
    "        '&format=json')\n",
    "    json_response = requests.get(url).json()\n",
    "    if debug: print(wikidata_id, url, json_response) \n",
    "\n",
    "    entities = json_response.get('entities')    \n",
    "    if entities:\n",
    "        entity = entities.get(wikidata_id)\n",
    "        if entity:\n",
    "            sitelinks = entity.get('sitelinks')\n",
    "            if sitelinks:\n",
    "                if lang:\n",
    "                    # filter only the specified language\n",
    "                    sitelink = sitelinks.get(f'{lang}wiki')\n",
    "                    if sitelink:\n",
    "                        wiki_title = sitelink.get('title')\n",
    "                        return wiki_title\n",
    "\n",
    "    return None "
   ]
  },
  {
   "cell_type": "code",
   "execution_count": 17,
   "id": "bb118d99",
   "metadata": {},
   "outputs": [
    {
     "data": {
      "text/plain": [
       "'발열'"
      ]
     },
     "execution_count": 17,
     "metadata": {},
     "output_type": "execute_result"
    }
   ],
   "source": [
    "# example\n",
    "get_wikipedia_title_from_wikidata_id('Q38933', lang='ko', debug=False)"
   ]
  },
  {
   "cell_type": "code",
   "execution_count": 13,
   "id": "dedf02e7",
   "metadata": {},
   "outputs": [],
   "source": [
    "def get_pagestats(qid, lang, start, end, all_pages):\n",
    "    \n",
    "    \"\"\"\n",
    "    get time series of pageviews data for given qid in designated country\n",
    "    return: time series DataFrame\n",
    "    \"\"\"\n",
    "    \n",
    "    title = get_wikipedia_title_from_wikidata_id(qid, lang=lang, debug=False)\n",
    "    en_title = all_pages[all_pages['qid']==qid].index[0]\n",
    "    if title:\n",
    "        title = title.replace(\" \", \"_\")\n",
    "        title = urllib.parse.quote(title)\n",
    "    else: \n",
    "        return None\n",
    "    wiki = lang +'.wikipedia'\n",
    "    \n",
    "    # only consider human user\n",
    "    url = \"https://wikimedia.org/api/rest_v1/metrics/pageviews/per-article/\"\\\n",
    "        + wiki + \"/all-access/user/\"\\\n",
    "        + title + \"/daily/\" + start + \"/\" + end\n",
    "    try:\n",
    "        page = urllib.request.urlopen(url).read()\n",
    "    except:\n",
    "        # print(\"Error reading \" + url)\n",
    "        return\n",
    "    page = page.decode(\"UTF-8\")\n",
    "    \n",
    "    pageviews = {}\n",
    "    items = json.loads(page)\n",
    "    for item in items[\"items\"]:\n",
    "        views = int(item[\"views\"])\n",
    "        pageviews[item['timestamp']] = views\n",
    "    \n",
    "    return pd.DataFrame(pageviews.values(), index=time_trans(pageviews.keys()), columns=[en_title]), qid"
   ]
  },
  {
   "cell_type": "code",
   "execution_count": 14,
   "id": "8768600f",
   "metadata": {},
   "outputs": [
    {
     "data": {
      "text/plain": [
       "'2009_flu_pandemic_in_Canada'"
      ]
     },
     "execution_count": 14,
     "metadata": {},
     "output_type": "execute_result"
    }
   ],
   "source": [
    "all_pages[all_pages['qid']==covid_filtered['qid'][0]].index[0]"
   ]
  },
  {
   "cell_type": "code",
   "execution_count": 15,
   "id": "03cbeec5",
   "metadata": {},
   "outputs": [],
   "source": [
    "def time_trans(date_list):\n",
    "    \"\"\"\n",
    "    date follows pattern '2018010100'\n",
    "    return datetime object\n",
    "    \"\"\"\n",
    "    pattern = '(\\d{4})(\\d{2})(\\d{2})(\\d{2})'\n",
    "    date_list = [re.sub(pattern, '\\\\1-\\\\2-\\\\3',date) for date in date_list]\n",
    "    return [datetime.strptime(date, '%Y-%m-%d') for date in date_list]"
   ]
  },
  {
   "cell_type": "code",
   "execution_count": 16,
   "id": "d00319d2",
   "metadata": {},
   "outputs": [],
   "source": [
    "def pageview_collection(page_qid_list, start, end, lang):\n",
    "    \"\"\"\n",
    "    collect all pageview data across time, merge them\n",
    "    return: DataFrame\n",
    "    \"\"\"\n",
    "    df_list = []\n",
    "    qid_list = []\n",
    "    for qid in tqdm(set(page_qid_list)):\n",
    "        try:\n",
    "            temp, idx = get_pagestats(qid, lang, start, end, all_pages)\n",
    "            df_list.append(temp)\n",
    "            qid_list.append(idx)\n",
    "        except:\n",
    "            continue\n",
    "      \n",
    "    \n",
    "    # combine df for each page\n",
    "    final = df_list[0]\n",
    "    for m in df_list[1:]:\n",
    "        if m.columns[0] in final.columns:\n",
    "            continue\n",
    "        else:\n",
    "            final = final.join(m, how='outer')\n",
    "    return final, qid_list"
   ]
  },
  {
   "cell_type": "markdown",
   "id": "72d52b6c",
   "metadata": {},
   "source": [
    "### Data collection"
   ]
  },
  {
   "cell_type": "code",
   "execution_count": 18,
   "id": "8517d7b7",
   "metadata": {
    "scrolled": true
   },
   "outputs": [
    {
     "name": "stdout",
     "output_type": "stream",
     "text": [
      "Start collecting language: sr\n"
     ]
    },
    {
     "name": "stderr",
     "output_type": "stream",
     "text": [
      "100%|████████████████████████████████████████████████████████████████████████████████| 127/127 [00:44<00:00,  2.88it/s]\n",
      "100%|████████████████████████████████████████████████████████████████████████████████| 240/240 [01:22<00:00,  2.90it/s]\n",
      "100%|████████████████████████████████████████████████████████████████████████████████| 185/185 [01:01<00:00,  3.03it/s]\n"
     ]
    },
    {
     "name": "stdout",
     "output_type": "stream",
     "text": [
      "Start collecting language: it\n"
     ]
    },
    {
     "name": "stderr",
     "output_type": "stream",
     "text": [
      "100%|████████████████████████████████████████████████████████████████████████████████| 127/127 [00:46<00:00,  2.72it/s]\n",
      "100%|████████████████████████████████████████████████████████████████████████████████| 240/240 [01:31<00:00,  2.63it/s]\n",
      "100%|████████████████████████████████████████████████████████████████████████████████| 185/185 [01:07<00:00,  2.72it/s]\n"
     ]
    },
    {
     "name": "stdout",
     "output_type": "stream",
     "text": [
      "Start collecting language: fr\n"
     ]
    },
    {
     "name": "stderr",
     "output_type": "stream",
     "text": [
      "100%|████████████████████████████████████████████████████████████████████████████████| 127/127 [00:49<00:00,  2.57it/s]\n",
      "100%|████████████████████████████████████████████████████████████████████████████████| 240/240 [01:30<00:00,  2.64it/s]\n",
      "100%|████████████████████████████████████████████████████████████████████████████████| 185/185 [01:11<00:00,  2.59it/s]\n"
     ]
    },
    {
     "name": "stdout",
     "output_type": "stream",
     "text": [
      "Start collecting language: en\n"
     ]
    },
    {
     "name": "stderr",
     "output_type": "stream",
     "text": [
      "100%|████████████████████████████████████████████████████████████████████████████████| 127/127 [00:56<00:00,  2.25it/s]\n",
      "100%|████████████████████████████████████████████████████████████████████████████████| 240/240 [01:45<00:00,  2.28it/s]\n",
      "100%|████████████████████████████████████████████████████████████████████████████████| 185/185 [01:27<00:00,  2.13it/s]\n"
     ]
    },
    {
     "name": "stdout",
     "output_type": "stream",
     "text": [
      "Start collecting language: nl\n"
     ]
    },
    {
     "name": "stderr",
     "output_type": "stream",
     "text": [
      "100%|████████████████████████████████████████████████████████████████████████████████| 127/127 [00:42<00:00,  2.96it/s]\n",
      "100%|████████████████████████████████████████████████████████████████████████████████| 240/240 [01:23<00:00,  2.89it/s]\n",
      "100%|████████████████████████████████████████████████████████████████████████████████| 185/185 [01:10<00:00,  2.62it/s]\n"
     ]
    },
    {
     "name": "stdout",
     "output_type": "stream",
     "text": [
      "Start collecting language: ko\n"
     ]
    },
    {
     "name": "stderr",
     "output_type": "stream",
     "text": [
      "100%|████████████████████████████████████████████████████████████████████████████████| 127/127 [00:44<00:00,  2.83it/s]\n",
      "100%|████████████████████████████████████████████████████████████████████████████████| 240/240 [01:36<00:00,  2.48it/s]\n",
      "100%|████████████████████████████████████████████████████████████████████████████████| 185/185 [01:00<00:00,  3.04it/s]\n"
     ]
    },
    {
     "name": "stdout",
     "output_type": "stream",
     "text": [
      "Start collecting language: de\n"
     ]
    },
    {
     "name": "stderr",
     "output_type": "stream",
     "text": [
      "100%|████████████████████████████████████████████████████████████████████████████████| 127/127 [00:55<00:00,  2.29it/s]\n",
      "100%|████████████████████████████████████████████████████████████████████████████████| 240/240 [01:30<00:00,  2.66it/s]\n",
      "100%|████████████████████████████████████████████████████████████████████████████████| 185/185 [01:08<00:00,  2.71it/s]\n"
     ]
    },
    {
     "name": "stdout",
     "output_type": "stream",
     "text": [
      "Start collecting language: fi\n"
     ]
    },
    {
     "name": "stderr",
     "output_type": "stream",
     "text": [
      "100%|████████████████████████████████████████████████████████████████████████████████| 127/127 [00:39<00:00,  3.18it/s]\n",
      "100%|████████████████████████████████████████████████████████████████████████████████| 240/240 [01:25<00:00,  2.82it/s]\n",
      "100%|████████████████████████████████████████████████████████████████████████████████| 185/185 [00:59<00:00,  3.09it/s]\n"
     ]
    },
    {
     "name": "stdout",
     "output_type": "stream",
     "text": [
      "Start collecting language: ja\n"
     ]
    },
    {
     "name": "stderr",
     "output_type": "stream",
     "text": [
      "100%|████████████████████████████████████████████████████████████████████████████████| 127/127 [00:47<00:00,  2.65it/s]\n",
      "100%|████████████████████████████████████████████████████████████████████████████████| 240/240 [01:38<00:00,  2.43it/s]\n",
      "100%|████████████████████████████████████████████████████████████████████████████████| 185/185 [01:10<00:00,  2.63it/s]\n"
     ]
    },
    {
     "name": "stdout",
     "output_type": "stream",
     "text": [
      "Start collecting language: no\n"
     ]
    },
    {
     "name": "stderr",
     "output_type": "stream",
     "text": [
      "100%|████████████████████████████████████████████████████████████████████████████████| 127/127 [00:38<00:00,  3.28it/s]\n",
      "100%|████████████████████████████████████████████████████████████████████████████████| 240/240 [01:21<00:00,  2.93it/s]\n",
      "100%|████████████████████████████████████████████████████████████████████████████████| 185/185 [01:14<00:00,  2.48it/s]\n"
     ]
    },
    {
     "name": "stdout",
     "output_type": "stream",
     "text": [
      "Start collecting language: sv\n"
     ]
    },
    {
     "name": "stderr",
     "output_type": "stream",
     "text": [
      "100%|████████████████████████████████████████████████████████████████████████████████| 127/127 [00:58<00:00,  2.16it/s]\n",
      "100%|████████████████████████████████████████████████████████████████████████████████| 240/240 [02:09<00:00,  1.85it/s]\n",
      "100%|████████████████████████████████████████████████████████████████████████████████| 185/185 [01:42<00:00,  1.81it/s]\n"
     ]
    },
    {
     "name": "stdout",
     "output_type": "stream",
     "text": [
      "Start collecting language: da\n"
     ]
    },
    {
     "name": "stderr",
     "output_type": "stream",
     "text": [
      "100%|████████████████████████████████████████████████████████████████████████████████| 127/127 [00:51<00:00,  2.47it/s]\n",
      "100%|████████████████████████████████████████████████████████████████████████████████| 240/240 [01:41<00:00,  2.36it/s]\n",
      "100%|████████████████████████████████████████████████████████████████████████████████| 185/185 [01:10<00:00,  2.61it/s]\n"
     ]
    }
   ],
   "source": [
    "# collect covid_pageview data for different language\n",
    "all_res={}\n",
    "for lang in [\"sr\",\"it\", \"fr\", \"en\", \"nl\", \"ko\", \"de\", \"fi\", \"ja\", \"no\", \"sv\", \"da\"]:\n",
    "    print('Start collecting language: %s' %lang)\n",
    "    pageviews_res={}\n",
    "    category_res={}\n",
    "    for name, pages in [('covid',covid_filtered), ('noncovid',noncovid_filtered), ('mental',mental_filtered)]:\n",
    "        pageviews, qids = pageview_collection(pages['qid'], '20190101', '20200930', lang)\n",
    "        pageviews_res[name] = pageviews\n",
    "        category_res[name] = pages[pages['qid'].isin(qids)]\n",
    "    res_dict = {'pageviews': pageviews_res,'category': category_res}\n",
    "    all_res[lang]=res_dict\n",
    "\n",
    "# store the results as pickle file                        \n",
    "with open('./data/keyword_pageviews_allcountry.pickle', 'wb') as handle:\n",
    "    pickle.dump(all_res, handle, protocol=pickle.HIGHEST_PROTOCOL)\n",
    "    "
   ]
  },
  {
   "cell_type": "code",
   "execution_count": 19,
   "id": "8bd49394",
   "metadata": {},
   "outputs": [
    {
     "data": {
      "image/png": "[encoded data removed]",
      "text/plain": [
       "<Figure size 432x288 with 1 Axes>"
      ]
     },
     "metadata": {
      "needs_background": "light"
     },
     "output_type": "display_data"
    }
   ],
   "source": [
    "# simple plot to check to data completeness\n",
    "temp1 = all_res['it']['pageviews']['noncovid'].sum(axis=1)\n",
    "temp1.plot(label='it')\n",
    "temp2 = all_res['fr']['pageviews']['noncovid'].sum(axis=1)\n",
    "temp2.plot(label='fr')\n",
    "plt.legend()\n",
    "plt.show()"
   ]
  },
  {
   "cell_type": "code",
   "execution_count": 20,
   "id": "15adfd54",
   "metadata": {},
   "outputs": [
    {
     "data": {
      "image/png": "[encoded data removed]",
      "text/plain": [
       "<Figure size 432x288 with 1 Axes>"
      ]
     },
     "metadata": {
      "needs_background": "light"
     },
     "output_type": "display_data"
    }
   ],
   "source": [
    "temp1 = all_res['it']['pageviews']['mental'].sum(axis=1)\n",
    "temp1.plot(label='it')\n",
    "temp2 = all_res['fr']['pageviews']['mental'].sum(axis=1)\n",
    "temp2.plot(label='fr')\n",
    "plt.legend()\n",
    "plt.show()\n",
    "# temp3 = covid_pageview_en.sum(axis=1)\n",
    "# temp3.plot()"
   ]
  },
  {
   "cell_type": "code",
   "execution_count": 25,
   "id": "54f8c39c",
   "metadata": {},
   "outputs": [
    {
     "data": {
      "text/html": [
       "<div>\n",
       "<style scoped>\n",
       "    .dataframe tbody tr th:only-of-type {\n",
       "        vertical-align: middle;\n",
       "    }\n",
       "\n",
       "    .dataframe tbody tr th {\n",
       "        vertical-align: top;\n",
       "    }\n",
       "\n",
       "    .dataframe thead th {\n",
       "        text-align: right;\n",
       "    }\n",
       "</style>\n",
       "<table border=\"1\" class=\"dataframe\">\n",
       "  <thead>\n",
       "    <tr style=\"text-align: right;\">\n",
       "      <th></th>\n",
       "      <th>index</th>\n",
       "      <th>category</th>\n",
       "      <th>qid</th>\n",
       "    </tr>\n",
       "  </thead>\n",
       "  <tbody>\n",
       "    <tr>\n",
       "      <th>0</th>\n",
       "      <td>Hamilton_Rating_Scale_for_Depression</td>\n",
       "      <td>NaN</td>\n",
       "      <td>Q385555</td>\n",
       "    </tr>\n",
       "    <tr>\n",
       "      <th>1</th>\n",
       "      <td>Combat_stress_reaction</td>\n",
       "      <td>disorder</td>\n",
       "      <td>Q1482034</td>\n",
       "    </tr>\n",
       "    <tr>\n",
       "      <th>2</th>\n",
       "      <td>Suicide_methods</td>\n",
       "      <td>death</td>\n",
       "      <td>Q2485083</td>\n",
       "    </tr>\n",
       "    <tr>\n",
       "      <th>3</th>\n",
       "      <td>Mental_disorder</td>\n",
       "      <td>disorder</td>\n",
       "      <td>Q12135</td>\n",
       "    </tr>\n",
       "    <tr>\n",
       "      <th>4</th>\n",
       "      <td>Domestic_violence</td>\n",
       "      <td>violence</td>\n",
       "      <td>Q156537</td>\n",
       "    </tr>\n",
       "    <tr>\n",
       "      <th>...</th>\n",
       "      <td>...</td>\n",
       "      <td>...</td>\n",
       "      <td>...</td>\n",
       "    </tr>\n",
       "    <tr>\n",
       "      <th>177</th>\n",
       "      <td>Ideas_of_reference_and_delusions_of_reference</td>\n",
       "      <td>NaN</td>\n",
       "      <td>Q2215516</td>\n",
       "    </tr>\n",
       "    <tr>\n",
       "      <th>179</th>\n",
       "      <td>Diagnostic_and_Statistical_Manual_of_Mental_Di...</td>\n",
       "      <td>NaN</td>\n",
       "      <td>Q201561</td>\n",
       "    </tr>\n",
       "    <tr>\n",
       "      <th>181</th>\n",
       "      <td>Abuse</td>\n",
       "      <td>violence</td>\n",
       "      <td>Q600571</td>\n",
       "    </tr>\n",
       "    <tr>\n",
       "      <th>183</th>\n",
       "      <td>Dementia</td>\n",
       "      <td>mild</td>\n",
       "      <td>Q83030</td>\n",
       "    </tr>\n",
       "    <tr>\n",
       "      <th>185</th>\n",
       "      <td>Death_erection</td>\n",
       "      <td>death</td>\n",
       "      <td>Q1887912</td>\n",
       "    </tr>\n",
       "  </tbody>\n",
       "</table>\n",
       "<p>111 rows × 3 columns</p>\n",
       "</div>"
      ],
      "text/plain": [
       "                                                 index  category       qid\n",
       "0                 Hamilton_Rating_Scale_for_Depression       NaN   Q385555\n",
       "1                               Combat_stress_reaction  disorder  Q1482034\n",
       "2                                      Suicide_methods     death  Q2485083\n",
       "3                                      Mental_disorder  disorder    Q12135\n",
       "4                                    Domestic_violence  violence   Q156537\n",
       "..                                                 ...       ...       ...\n",
       "177      Ideas_of_reference_and_delusions_of_reference       NaN  Q2215516\n",
       "179  Diagnostic_and_Statistical_Manual_of_Mental_Di...       NaN   Q201561\n",
       "181                                              Abuse  violence   Q600571\n",
       "183                                           Dementia      mild    Q83030\n",
       "185                                     Death_erection     death  Q1887912\n",
       "\n",
       "[111 rows x 3 columns]"
      ]
     },
     "execution_count": 25,
     "metadata": {},
     "output_type": "execute_result"
    }
   ],
   "source": [
    "all_res['fr']['category']['mental']"
   ]
  },
  {
   "cell_type": "code",
   "execution_count": null,
   "id": "f7def242",
   "metadata": {},
   "outputs": [],
   "source": []
  }
 ],
 "metadata": {
  "kernelspec": {
   "display_name": "Python 3 (ipykernel)",
   "language": "python",
   "name": "python3"
  },
  "language_info": {
   "codemirror_mode": {
    "name": "ipython",
    "version": 3
   },
   "file_extension": ".py",
   "mimetype": "text/x-python",
   "name": "python",
   "nbconvert_exporter": "python",
   "pygments_lexer": "ipython3",
   "version": "3.9.12"
  }
 },
 "nbformat": 4,
 "nbformat_minor": 5
}
